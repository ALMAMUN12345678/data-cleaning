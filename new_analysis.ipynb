{
 "cells": [
  {
   "cell_type": "code",
   "execution_count": 311,
   "id": "8a666f9a-b683-4b91-b8e5-66cef28e1cb5",
   "metadata": {},
   "outputs": [],
   "source": [
    "import pandas as pd\n",
    "import numpy as np"
   ]
  },
  {
   "cell_type": "code",
   "execution_count": 486,
   "id": "fce14e99-7e20-408c-8de4-e526e23195ad",
   "metadata": {},
   "outputs": [],
   "source": [
    "patients = pd.read_csv('patients.csv')\n",
    "treatments = pd.read_csv('treatments.csv')\n",
    "adverse_reactions = pd.read_csv('adverse_reactions.csv')"
   ]
  },
  {
   "cell_type": "markdown",
   "id": "2a24a637-26c1-4139-bb3c-ad30967f75df",
   "metadata": {},
   "source": [
    "### Data Assess For Patients dataset\n",
    "- Missing value found address, city, state, zipcode, country, contact.\n",
    "- Duplicated value in John Doe\n",
    "- some zip code are used in 4 digits\n",
    "- Some state name are used in accronym\n",
    "- Email and phone number in same column\n",
    "- minimum weight in kg instead of ibs\n",
    "- different phone number type\n",
    "- minimum height will show error/outliar( 27 instead of 72)\n",
    "- zip-code isnot float or not a string\n",
    "- remove '+' from phone number\n",
    "- state and country convert into category"
   ]
  },
  {
   "cell_type": "code",
   "execution_count": 145,
   "id": "3bc97d22-cf81-429d-92f6-2c85de4cf4ba",
   "metadata": {},
   "outputs": [],
   "source": [
    "#patients"
   ]
  },
  {
   "cell_type": "code",
   "execution_count": 387,
   "id": "01056c18-4e71-47a0-a005-49284b466be9",
   "metadata": {},
   "outputs": [],
   "source": [
    "patient_1 = patients[~((patients['address'].duplicated()) & patients['address'].notnull())]"
   ]
  },
  {
   "cell_type": "code",
   "execution_count": 152,
   "id": "e10b314d-1415-4635-b57b-4dbdc8fabf16",
   "metadata": {},
   "outputs": [],
   "source": [
    "#patient_1[patient_1.surname == 'Jakobsen']"
   ]
  },
  {
   "cell_type": "code",
   "execution_count": 61,
   "id": "69c34304-399c-4555-8a7d-5c49a4f63971",
   "metadata": {},
   "outputs": [],
   "source": [
    "#patient_1[patient_1['address'].isna()]"
   ]
  },
  {
   "cell_type": "code",
   "execution_count": 63,
   "id": "b3650669-3f9f-4dc8-9875-58abafd15974",
   "metadata": {},
   "outputs": [],
   "source": [
    "#patient_1['address']=patient_1['address'].dropna()"
   ]
  },
  {
   "cell_type": "code",
   "execution_count": 62,
   "id": "9d2fcfec-53e4-4161-9492-9b282a82e8dc",
   "metadata": {},
   "outputs": [],
   "source": [
    "#patient_1[patient_1['address'].duplicated()]"
   ]
  },
  {
   "cell_type": "code",
   "execution_count": 388,
   "id": "6173678e-02d6-4a05-b18b-a562190ecf30",
   "metadata": {},
   "outputs": [
    {
     "name": "stderr",
     "output_type": "stream",
     "text": [
      "C:\\Users\\Mamun\\AppData\\Local\\Temp\\ipykernel_11660\\2845934795.py:1: SettingWithCopyWarning: \n",
      "A value is trying to be set on a copy of a slice from a DataFrame.\n",
      "Try using .loc[row_indexer,col_indexer] = value instead\n",
      "\n",
      "See the caveats in the documentation: https://pandas.pydata.org/pandas-docs/stable/user_guide/indexing.html#returning-a-view-versus-a-copy\n",
      "  patient_1['zip_code']=patient_1['zip_code'].astype(str).str[:-2].str.pad(5,fillchar='0')\n"
     ]
    }
   ],
   "source": [
    "patient_1['zip_code']=patient_1['zip_code'].astype(str).str[:-2].str.pad(5,fillchar='0')"
   ]
  },
  {
   "cell_type": "code",
   "execution_count": 389,
   "id": "bade7ee6-cc94-457b-951f-8f73a73e8429",
   "metadata": {},
   "outputs": [
    {
     "name": "stderr",
     "output_type": "stream",
     "text": [
      "C:\\Users\\Mamun\\AppData\\Local\\Temp\\ipykernel_11660\\959029840.py:6: SettingWithCopyWarning: \n",
      "A value is trying to be set on a copy of a slice from a DataFrame.\n",
      "Try using .loc[row_indexer,col_indexer] = value instead\n",
      "\n",
      "See the caveats in the documentation: https://pandas.pydata.org/pandas-docs/stable/user_guide/indexing.html#returning-a-view-versus-a-copy\n",
      "  patient_1['state']=patient_1['state'].replace(state_abbrev)\n"
     ]
    }
   ],
   "source": [
    "state_abbrev = {'California': 'CA',\n",
    "                'New York': 'NY',\n",
    "                'Illinois': 'IL',\n",
    "                'Florida': 'FL',\n",
    "                'Nebraska': 'NE'}\n",
    "patient_1['state']=patient_1['state'].replace(state_abbrev)"
   ]
  },
  {
   "cell_type": "code",
   "execution_count": 390,
   "id": "b13fafcc-9e48-4fe8-977f-eb6d30f1b115",
   "metadata": {},
   "outputs": [
    {
     "data": {
      "text/plain": [
       "array(['CA', 'IL', 'NE', 'NJ', 'AL', 'FL', 'NV', 'MO', 'NY', 'MI', 'TN',\n",
       "       'VA', 'OK', 'GA', 'MT', 'MA', 'NM', 'LA', 'PA', 'CO', 'ME', 'WI',\n",
       "       'SD', 'MN', 'WY', 'OH', 'IA', 'NC', 'IN', 'CT', 'KY', 'DE', 'MD',\n",
       "       'AZ', 'TX', 'AK', 'ND', 'KS', 'MS', 'WA', 'SC', 'WV', 'RI', 'NH',\n",
       "       'OR', nan, 'VT', 'ID', 'DC', 'AR'], dtype=object)"
      ]
     },
     "execution_count": 390,
     "metadata": {},
     "output_type": "execute_result"
    }
   ],
   "source": [
    "patient_1.state.unique()"
   ]
  },
  {
   "cell_type": "code",
   "execution_count": 144,
   "id": "19338c1f-0a7e-4b4a-b147-2295b4e37b1f",
   "metadata": {},
   "outputs": [],
   "source": [
    "#patient_1"
   ]
  },
  {
   "cell_type": "code",
   "execution_count": 391,
   "id": "70c568e1-d0a7-443e-a50d-ccf8d8249b67",
   "metadata": {},
   "outputs": [],
   "source": [
    "patient_1.loc[patient_1['surname']=='Zaitseva','weight'] = patient_1[patient_1['surname']=='Zaitseva'].weight* 2.20462"
   ]
  },
  {
   "cell_type": "code",
   "execution_count": 143,
   "id": "39e00adf-a6ee-4360-882e-4b7d3e7a8e26",
   "metadata": {},
   "outputs": [],
   "source": [
    "#patient_1['weight'].sort_values(ascending=True)"
   ]
  },
  {
   "cell_type": "code",
   "execution_count": 245,
   "id": "335475d5-669b-4ec4-bdc0-702e39cd6ee5",
   "metadata": {},
   "outputs": [],
   "source": [
    "#patient_1"
   ]
  },
  {
   "cell_type": "code",
   "execution_count": 181,
   "id": "b8b4a2fc-8238-4cf6-8d2b-9bd8a4c71f9e",
   "metadata": {},
   "outputs": [],
   "source": [
    "#patient_1['contact'].str.extract(r'([a-zA-Z._%+-]+@[a-zA-Z0-9.-]+\\.[a-zA-Z]{2,})')"
   ]
  },
  {
   "cell_type": "code",
   "execution_count": 392,
   "id": "9c135dac-8ece-49cd-a357-492c911555be",
   "metadata": {},
   "outputs": [
    {
     "name": "stderr",
     "output_type": "stream",
     "text": [
      "C:\\Users\\Mamun\\AppData\\Local\\Temp\\ipykernel_11660\\3535026338.py:1: SettingWithCopyWarning: \n",
      "A value is trying to be set on a copy of a slice from a DataFrame.\n",
      "Try using .loc[row_indexer,col_indexer] = value instead\n",
      "\n",
      "See the caveats in the documentation: https://pandas.pydata.org/pandas-docs/stable/user_guide/indexing.html#returning-a-view-versus-a-copy\n",
      "  patient_1['email']=patient_1['contact'].str.extract(r'[0-9-0-9]*([a-zA-Z0-9_.+-]+@[a-zA-Z0-9-]+\\.[a-zA-Z]+)')\n"
     ]
    }
   ],
   "source": [
    "patient_1['email']=patient_1['contact'].str.extract(r'[0-9-0-9]*([a-zA-Z0-9_.+-]+@[a-zA-Z0-9-]+\\.[a-zA-Z]+)')"
   ]
  },
  {
   "cell_type": "code",
   "execution_count": 244,
   "id": "7fd688eb-3706-49a8-a2bb-c6a6f29e05a0",
   "metadata": {},
   "outputs": [],
   "source": [
    "#patient_1['email']=patient_1['contact'].str.extract('([a-zA-Z]+@[a-zA-Z]\\w+[.]+[a-zA-Z]+)')"
   ]
  },
  {
   "cell_type": "code",
   "execution_count": 393,
   "id": "5c3b802a-d09f-44ac-86ff-ccb0117737d7",
   "metadata": {},
   "outputs": [
    {
     "name": "stderr",
     "output_type": "stream",
     "text": [
      "C:\\Users\\Mamun\\AppData\\Local\\Temp\\ipykernel_11660\\1450330558.py:1: SettingWithCopyWarning: \n",
      "A value is trying to be set on a copy of a slice from a DataFrame.\n",
      "Try using .loc[row_indexer,col_indexer] = value instead\n",
      "\n",
      "See the caveats in the documentation: https://pandas.pydata.org/pandas-docs/stable/user_guide/indexing.html#returning-a-view-versus-a-copy\n",
      "  patient_1['Phone_number']=patient_1['contact'].str.extract('((?:\\+\\d{1,2}\\s)?\\(?\\d{3}\\)?[\\s.-]?\\d{3}[\\s.-]?\\d{4})', expand=True)\n"
     ]
    }
   ],
   "source": [
    "patient_1['Phone_number']=patient_1['contact'].str.extract('((?:\\+\\d{1,2}\\s)?\\(?\\d{3}\\)?[\\s.-]?\\d{3}[\\s.-]?\\d{4})', expand=True)"
   ]
  },
  {
   "cell_type": "code",
   "execution_count": 394,
   "id": "b054792c-322e-4a88-8aee-338f0601eed1",
   "metadata": {},
   "outputs": [
    {
     "name": "stderr",
     "output_type": "stream",
     "text": [
      "C:\\Users\\Mamun\\AppData\\Local\\Temp\\ipykernel_11660\\2112550509.py:1: SettingWithCopyWarning: \n",
      "A value is trying to be set on a copy of a slice from a DataFrame.\n",
      "Try using .loc[row_indexer,col_indexer] = value instead\n",
      "\n",
      "See the caveats in the documentation: https://pandas.pydata.org/pandas-docs/stable/user_guide/indexing.html#returning-a-view-versus-a-copy\n",
      "  patient_1['height']=patient_1['height'].replace(27,72)\n"
     ]
    }
   ],
   "source": [
    "patient_1['height']=patient_1['height'].replace(27,72)"
   ]
  },
  {
   "cell_type": "code",
   "execution_count": 395,
   "id": "eef5ef64-b161-4022-9ede-d3c2dc843fc1",
   "metadata": {},
   "outputs": [
    {
     "data": {
      "text/plain": [
       "59"
      ]
     },
     "execution_count": 395,
     "metadata": {},
     "output_type": "execute_result"
    }
   ],
   "source": [
    "patient_1['height'].min()"
   ]
  },
  {
   "cell_type": "code",
   "execution_count": 396,
   "id": "b25a3bfa-f853-4902-b2de-434727263245",
   "metadata": {},
   "outputs": [
    {
     "name": "stderr",
     "output_type": "stream",
     "text": [
      "C:\\Users\\Mamun\\AppData\\Local\\Temp\\ipykernel_11660\\255926393.py:1: SettingWithCopyWarning: \n",
      "A value is trying to be set on a copy of a slice from a DataFrame.\n",
      "Try using .loc[row_indexer,col_indexer] = value instead\n",
      "\n",
      "See the caveats in the documentation: https://pandas.pydata.org/pandas-docs/stable/user_guide/indexing.html#returning-a-view-versus-a-copy\n",
      "  patient_1['zip_code'] = patient_1['zip_code'].replace('0000n', np.nan)\n"
     ]
    }
   ],
   "source": [
    "patient_1['zip_code'] = patient_1['zip_code'].replace('0000n', np.nan)"
   ]
  },
  {
   "cell_type": "code",
   "execution_count": 397,
   "id": "ea773491-81f3-4534-90ac-c55aa63f672a",
   "metadata": {},
   "outputs": [],
   "source": [
    "df = patient_1.copy()"
   ]
  },
  {
   "cell_type": "code",
   "execution_count": 373,
   "id": "253dfff0-36a3-4d7e-87b9-b702809cf3ac",
   "metadata": {},
   "outputs": [],
   "source": [
    "#patient_1[patient_1['zip_code'].isna()]"
   ]
  },
  {
   "cell_type": "code",
   "execution_count": 403,
   "id": "b06c21e2-5b0a-42f7-935f-8571ea6d78b5",
   "metadata": {},
   "outputs": [],
   "source": [
    "def convert_int(value):\n",
    "    try:\n",
    "        value['zip_code']=value['zip_code'].astype(int)\n",
    "    except ValueError:\n",
    "        value['zip_code']=pd.to_numeric(value['zip_code'], errors='coerce')             "
   ]
  },
  {
   "cell_type": "code",
   "execution_count": 410,
   "id": "d38c50f0-fc2b-4d5b-9413-c1f36a12e70d",
   "metadata": {},
   "outputs": [],
   "source": [
    "#df"
   ]
  },
  {
   "cell_type": "code",
   "execution_count": 408,
   "id": "8a603660-b93f-49d8-afa5-53ac7ae96b23",
   "metadata": {},
   "outputs": [],
   "source": [
    "df['birthdate']=pd.to_datetime(df['birthdate'], errors='coerce')"
   ]
  },
  {
   "cell_type": "code",
   "execution_count": 414,
   "id": "68968454-bc28-465e-9c53-dfb98761bce2",
   "metadata": {},
   "outputs": [],
   "source": [
    "#patient_1.describe()"
   ]
  },
  {
   "cell_type": "code",
   "execution_count": 418,
   "id": "d0886c5a-3408-4f43-9ff1-b0e97e9576ed",
   "metadata": {},
   "outputs": [],
   "source": [
    "df.drop(columns='contact',inplace=True)"
   ]
  },
  {
   "cell_type": "code",
   "execution_count": 454,
   "id": "665b5fd7-d110-437d-9e1d-a42179757723",
   "metadata": {},
   "outputs": [
    {
     "data": {
      "text/plain": [
       "0       9517199170\n",
       "1      12175693204\n",
       "2       4023636804\n",
       "3      17326368246\n",
       "4       3345157487\n",
       "          ...     \n",
       "497    19189849171\n",
       "498     2074770579\n",
       "499     9282844492\n",
       "500     8162236007\n",
       "501     3604432060\n",
       "Name: Phone_number, Length: 495, dtype: object"
      ]
     },
     "execution_count": 454,
     "metadata": {},
     "output_type": "execute_result"
    }
   ],
   "source": [
    "df['Phone_number'].str.replace(r\"[\\+\\-\\(\\)\\s]\",'',regex=True)"
   ]
  },
  {
   "cell_type": "code",
   "execution_count": 455,
   "id": "d983ab06-37a2-43e6-ad95-c88f6e78f396",
   "metadata": {},
   "outputs": [],
   "source": [
    "df['Phone_number']= df['Phone_number'].str.replace(r\"[\\+\\-\\(\\)\\s]\",'',regex=True).str.pad(11, fillchar='1')\n"
   ]
  },
  {
   "cell_type": "code",
   "execution_count": 552,
   "id": "ab4c2353-da43-4cb2-abc5-365531efc8d4",
   "metadata": {},
   "outputs": [],
   "source": [
    "df.assigned_sex = df.assigned_sex.astype('category')\n",
    "df.state = df.state.astype('category')"
   ]
  },
  {
   "cell_type": "code",
   "execution_count": 553,
   "id": "12727254-3007-4118-a855-487a7df28ea0",
   "metadata": {},
   "outputs": [],
   "source": [
    "patient= df.copy()"
   ]
  },
  {
   "cell_type": "code",
   "execution_count": 556,
   "id": "38581337-dff7-4cf7-90b8-ecb32e416fa3",
   "metadata": {},
   "outputs": [],
   "source": [
    "#patient.info()"
   ]
  },
  {
   "cell_type": "markdown",
   "id": "32b8a48c-065c-4a2d-87d8-783eb39549e1",
   "metadata": {},
   "source": [
    "### Data Assess For tratment dataset\n",
    "- Lowercase given name and surname\n",
    "- wrong informations are hba1c_change\n",
    "- split auralin and novodra split into '-'\n",
    "- then remove 'u' from split dataset\n",
    "- Null data will be instead of '-' into auralin and novodra"
   ]
  },
  {
   "cell_type": "code",
   "execution_count": 535,
   "id": "825b75c9-8c45-4ee7-8f7e-70e794483c65",
   "metadata": {},
   "outputs": [
    {
     "data": {
      "text/html": [
       "<div>\n",
       "<style scoped>\n",
       "    .dataframe tbody tr th:only-of-type {\n",
       "        vertical-align: middle;\n",
       "    }\n",
       "\n",
       "    .dataframe tbody tr th {\n",
       "        vertical-align: top;\n",
       "    }\n",
       "\n",
       "    .dataframe thead th {\n",
       "        text-align: right;\n",
       "    }\n",
       "</style>\n",
       "<table border=\"1\" class=\"dataframe\">\n",
       "  <thead>\n",
       "    <tr style=\"text-align: right;\">\n",
       "      <th></th>\n",
       "      <th>given_name</th>\n",
       "      <th>surname</th>\n",
       "      <th>auralin</th>\n",
       "      <th>novodra</th>\n",
       "      <th>hba1c_start</th>\n",
       "      <th>hba1c_end</th>\n",
       "      <th>hba1c_change</th>\n",
       "    </tr>\n",
       "  </thead>\n",
       "  <tbody>\n",
       "    <tr>\n",
       "      <th>0</th>\n",
       "      <td>Veronika</td>\n",
       "      <td>Jindrová</td>\n",
       "      <td>41u - 48u</td>\n",
       "      <td>-</td>\n",
       "      <td>7.63</td>\n",
       "      <td>7.20</td>\n",
       "      <td>0.43</td>\n",
       "    </tr>\n",
       "    <tr>\n",
       "      <th>1</th>\n",
       "      <td>Elliot</td>\n",
       "      <td>Richardson</td>\n",
       "      <td>-</td>\n",
       "      <td>40u - 45u</td>\n",
       "      <td>7.56</td>\n",
       "      <td>7.09</td>\n",
       "      <td>0.47</td>\n",
       "    </tr>\n",
       "  </tbody>\n",
       "</table>\n",
       "</div>"
      ],
      "text/plain": [
       "  given_name     surname    auralin    novodra  hba1c_start  hba1c_end  \\\n",
       "0   Veronika    Jindrová  41u - 48u          -         7.63       7.20   \n",
       "1     Elliot  Richardson          -  40u - 45u         7.56       7.09   \n",
       "\n",
       "   hba1c_change  \n",
       "0          0.43  \n",
       "1          0.47  "
      ]
     },
     "execution_count": 535,
     "metadata": {},
     "output_type": "execute_result"
    }
   ],
   "source": [
    "treatments.head(2)"
   ]
  },
  {
   "cell_type": "code",
   "execution_count": 536,
   "id": "cffe3c9a-6fbe-406f-b75d-f91e12c15197",
   "metadata": {},
   "outputs": [],
   "source": [
    "treatments['given_name']=treatments['given_name'].str.title()\n",
    "treatments['surname']=treatments['surname'].str.title()"
   ]
  },
  {
   "cell_type": "code",
   "execution_count": 537,
   "id": "9d409de0-1da3-4318-a049-8ae7580ee374",
   "metadata": {},
   "outputs": [],
   "source": [
    "treatments['hba1c_change']=treatments['hba1c_start']-treatments['hba1c_end']"
   ]
  },
  {
   "cell_type": "code",
   "execution_count": 538,
   "id": "df4dafd9-b582-431a-b308-a2af07ef6d8e",
   "metadata": {},
   "outputs": [],
   "source": [
    "treatments_clean = pd.melt(treatments,id_vars=['given_name', 'surname', 'hba1c_start', 'hba1c_end', 'hba1c_change'],\n",
    "                           var_name='treatment',value_name='dose')"
   ]
  },
  {
   "cell_type": "code",
   "execution_count": 539,
   "id": "1de3fe66-f887-48e2-ab98-80bf277ba7b8",
   "metadata": {},
   "outputs": [],
   "source": [
    "#treatments.iloc[:,:-1]\n",
    "treatments_clean[['start_dose','end_dose']]=treatments_clean['dose'].str.split('-',expand=True)"
   ]
  },
  {
   "cell_type": "code",
   "execution_count": 540,
   "id": "3f1e09b4-d96a-4754-9dde-2f1bb2d8fbd0",
   "metadata": {},
   "outputs": [],
   "source": [
    "treatments_clean['start_dose']= treatments_clean['start_dose'].str.replace('u','')\n",
    "treatments_clean['end_dose']= treatments_clean['end_dose'].str.replace('u','')"
   ]
  },
  {
   "cell_type": "code",
   "execution_count": 541,
   "id": "18839368-91d1-4aa0-8634-ba6872b034f8",
   "metadata": {},
   "outputs": [],
   "source": [
    "treatments_clean['start_dose'] = pd.to_numeric(treatments_clean['start_dose'], errors='coerce')\n",
    "treatments_clean['end_dose'] = pd.to_numeric(treatments_clean['end_dose'], errors='coerce')"
   ]
  },
  {
   "cell_type": "code",
   "execution_count": 542,
   "id": "15ef63f7-4958-4c21-be32-a397a8d5fe25",
   "metadata": {},
   "outputs": [],
   "source": [
    "treatments_clean.drop(columns='dose',inplace=True)"
   ]
  },
  {
   "cell_type": "code",
   "execution_count": 530,
   "id": "e1de1f25-9ea1-4e2c-b30b-aefb77d11da7",
   "metadata": {},
   "outputs": [],
   "source": [
    "#treatments_clean"
   ]
  },
  {
   "cell_type": "code",
   "execution_count": 469,
   "id": "2fbe265b-c4d1-480f-a9c4-ed26f89d5d80",
   "metadata": {},
   "outputs": [],
   "source": [
    "#treatments[['start_novodra','end_novodra']]=treatments['novodra'].str.split('-',expand=True)\n",
    "#treatments[['start_auralin','end_auralin']]=treatments['auralin'].str.split('-',expand=True)\n",
    "#treatments['start_novodra']= treatments['start_novodra'].str.replace('u','')\n",
    "#treatments['end_novodra']= treatments['end_novodra'].str.replace('u','')\n",
    "#treatments['start_auralin']= treatments['start_auralin'].str.replace('u','')\n",
    "#treatments['end_auralin']= treatments['end_auralin'].str.replace('u','')\n",
    "#treatments.replace('', np.nan, inplace=True)\n",
    "#treatments.drop(columns=['auralin','novodra'],inplace=True)"
   ]
  },
  {
   "cell_type": "markdown",
   "id": "d523ce24-ae96-4969-9c2e-e03db9090f46",
   "metadata": {},
   "source": [
    "## Data Assess for adverse_reactions dataset\n",
    "- set the name given_name and surname at title"
   ]
  },
  {
   "cell_type": "code",
   "execution_count": 543,
   "id": "7f957aff-c31d-483a-b2b2-ded7b6d442dd",
   "metadata": {},
   "outputs": [],
   "source": [
    "adverse_reactions['given_name']=adverse_reactions['given_name'].str.title()\n",
    "adverse_reactions['surname']=adverse_reactions['surname'].str.title()"
   ]
  },
  {
   "cell_type": "markdown",
   "id": "e1153a5a-71f5-490c-919b-84fdf07cfc38",
   "metadata": {},
   "source": [
    "#### All data merge to create a combine dataset"
   ]
  },
  {
   "cell_type": "code",
   "execution_count": 544,
   "id": "c56d21d0-0f71-41ca-8f34-dee3c6337945",
   "metadata": {},
   "outputs": [],
   "source": [
    "all_clean = pd.merge(treatments_clean, adverse_reactions, \n",
    "                            on=['given_name', 'surname'], how='left')"
   ]
  },
  {
   "cell_type": "code",
   "execution_count": 551,
   "id": "82257d76-0685-483f-93c7-d911547562fe",
   "metadata": {},
   "outputs": [],
   "source": [
    "#all_clean"
   ]
  },
  {
   "cell_type": "code",
   "execution_count": 548,
   "id": "fb191040-8693-44ce-871c-d213f8518746",
   "metadata": {},
   "outputs": [],
   "source": [
    "id_names = df[['patient_id', 'given_name', 'surname']]\n",
    "treatments_clean = pd.merge(all_clean, id_names, on=['given_name', 'surname'])\n",
    "treatments_clean = treatments_clean.drop(['given_name', 'surname'], axis=1)\n",
    "treatments_clean"
   ]
  },
  {
   "cell_type": "code",
   "execution_count": 550,
   "id": "9c199abf-b301-40b4-80f3-b7234cf96d80",
   "metadata": {},
   "outputs": [
    {
     "data": {
      "text/html": [
       "<div>\n",
       "<style scoped>\n",
       "    .dataframe tbody tr th:only-of-type {\n",
       "        vertical-align: middle;\n",
       "    }\n",
       "\n",
       "    .dataframe tbody tr th {\n",
       "        vertical-align: top;\n",
       "    }\n",
       "\n",
       "    .dataframe thead th {\n",
       "        text-align: right;\n",
       "    }\n",
       "</style>\n",
       "<table border=\"1\" class=\"dataframe\">\n",
       "  <thead>\n",
       "    <tr style=\"text-align: right;\">\n",
       "      <th></th>\n",
       "      <th>hba1c_start</th>\n",
       "      <th>hba1c_end</th>\n",
       "      <th>hba1c_change</th>\n",
       "      <th>treatment</th>\n",
       "      <th>start_dose</th>\n",
       "      <th>end_dose</th>\n",
       "      <th>adverse_reaction</th>\n",
       "      <th>patient_id</th>\n",
       "    </tr>\n",
       "  </thead>\n",
       "  <tbody>\n",
       "    <tr>\n",
       "      <th>0</th>\n",
       "      <td>7.63</td>\n",
       "      <td>7.20</td>\n",
       "      <td>0.43</td>\n",
       "      <td>auralin</td>\n",
       "      <td>41.0</td>\n",
       "      <td>48.0</td>\n",
       "      <td>NaN</td>\n",
       "      <td>225</td>\n",
       "    </tr>\n",
       "    <tr>\n",
       "      <th>1</th>\n",
       "      <td>7.56</td>\n",
       "      <td>7.09</td>\n",
       "      <td>0.47</td>\n",
       "      <td>auralin</td>\n",
       "      <td>NaN</td>\n",
       "      <td>NaN</td>\n",
       "      <td>hypoglycemia</td>\n",
       "      <td>94</td>\n",
       "    </tr>\n",
       "    <tr>\n",
       "      <th>2</th>\n",
       "      <td>7.68</td>\n",
       "      <td>7.25</td>\n",
       "      <td>0.43</td>\n",
       "      <td>auralin</td>\n",
       "      <td>NaN</td>\n",
       "      <td>NaN</td>\n",
       "      <td>NaN</td>\n",
       "      <td>64</td>\n",
       "    </tr>\n",
       "    <tr>\n",
       "      <th>3</th>\n",
       "      <td>7.97</td>\n",
       "      <td>7.62</td>\n",
       "      <td>0.35</td>\n",
       "      <td>auralin</td>\n",
       "      <td>33.0</td>\n",
       "      <td>36.0</td>\n",
       "      <td>NaN</td>\n",
       "      <td>242</td>\n",
       "    </tr>\n",
       "    <tr>\n",
       "      <th>4</th>\n",
       "      <td>7.78</td>\n",
       "      <td>7.46</td>\n",
       "      <td>0.32</td>\n",
       "      <td>auralin</td>\n",
       "      <td>NaN</td>\n",
       "      <td>NaN</td>\n",
       "      <td>NaN</td>\n",
       "      <td>57</td>\n",
       "    </tr>\n",
       "    <tr>\n",
       "      <th>...</th>\n",
       "      <td>...</td>\n",
       "      <td>...</td>\n",
       "      <td>...</td>\n",
       "      <td>...</td>\n",
       "      <td>...</td>\n",
       "      <td>...</td>\n",
       "      <td>...</td>\n",
       "      <td>...</td>\n",
       "    </tr>\n",
       "    <tr>\n",
       "      <th>543</th>\n",
       "      <td>7.93</td>\n",
       "      <td>7.73</td>\n",
       "      <td>0.20</td>\n",
       "      <td>novodra</td>\n",
       "      <td>NaN</td>\n",
       "      <td>NaN</td>\n",
       "      <td>NaN</td>\n",
       "      <td>197</td>\n",
       "    </tr>\n",
       "    <tr>\n",
       "      <th>544</th>\n",
       "      <td>7.90</td>\n",
       "      <td>7.58</td>\n",
       "      <td>0.32</td>\n",
       "      <td>novodra</td>\n",
       "      <td>49.0</td>\n",
       "      <td>49.0</td>\n",
       "      <td>NaN</td>\n",
       "      <td>141</td>\n",
       "    </tr>\n",
       "    <tr>\n",
       "      <th>545</th>\n",
       "      <td>9.04</td>\n",
       "      <td>8.67</td>\n",
       "      <td>0.37</td>\n",
       "      <td>novodra</td>\n",
       "      <td>NaN</td>\n",
       "      <td>NaN</td>\n",
       "      <td>NaN</td>\n",
       "      <td>308</td>\n",
       "    </tr>\n",
       "    <tr>\n",
       "      <th>546</th>\n",
       "      <td>7.64</td>\n",
       "      <td>7.28</td>\n",
       "      <td>0.36</td>\n",
       "      <td>novodra</td>\n",
       "      <td>NaN</td>\n",
       "      <td>NaN</td>\n",
       "      <td>NaN</td>\n",
       "      <td>388</td>\n",
       "    </tr>\n",
       "    <tr>\n",
       "      <th>547</th>\n",
       "      <td>8.00</td>\n",
       "      <td>7.64</td>\n",
       "      <td>0.36</td>\n",
       "      <td>novodra</td>\n",
       "      <td>NaN</td>\n",
       "      <td>NaN</td>\n",
       "      <td>NaN</td>\n",
       "      <td>22</td>\n",
       "    </tr>\n",
       "  </tbody>\n",
       "</table>\n",
       "<p>548 rows × 8 columns</p>\n",
       "</div>"
      ],
      "text/plain": [
       "     hba1c_start  hba1c_end  hba1c_change treatment  start_dose  end_dose  \\\n",
       "0           7.63       7.20          0.43   auralin        41.0      48.0   \n",
       "1           7.56       7.09          0.47   auralin         NaN       NaN   \n",
       "2           7.68       7.25          0.43   auralin         NaN       NaN   \n",
       "3           7.97       7.62          0.35   auralin        33.0      36.0   \n",
       "4           7.78       7.46          0.32   auralin         NaN       NaN   \n",
       "..           ...        ...           ...       ...         ...       ...   \n",
       "543         7.93       7.73          0.20   novodra         NaN       NaN   \n",
       "544         7.90       7.58          0.32   novodra        49.0      49.0   \n",
       "545         9.04       8.67          0.37   novodra         NaN       NaN   \n",
       "546         7.64       7.28          0.36   novodra         NaN       NaN   \n",
       "547         8.00       7.64          0.36   novodra         NaN       NaN   \n",
       "\n",
       "    adverse_reaction  patient_id  \n",
       "0                NaN         225  \n",
       "1       hypoglycemia          94  \n",
       "2                NaN          64  \n",
       "3                NaN         242  \n",
       "4                NaN          57  \n",
       "..               ...         ...  \n",
       "543              NaN         197  \n",
       "544              NaN         141  \n",
       "545              NaN         308  \n",
       "546              NaN         388  \n",
       "547              NaN          22  \n",
       "\n",
       "[548 rows x 8 columns]"
      ]
     },
     "execution_count": 550,
     "metadata": {},
     "output_type": "execute_result"
    }
   ],
   "source": [
    "#id_names.given_name = id_names.given_name.str.title()\n",
    "#id_names.surname = id_names.surname.str.title()"
   ]
  }
 ],
 "metadata": {
  "kernelspec": {
   "display_name": "Python 3 (ipykernel)",
   "language": "python",
   "name": "python3"
  },
  "language_info": {
   "codemirror_mode": {
    "name": "ipython",
    "version": 3
   },
   "file_extension": ".py",
   "mimetype": "text/x-python",
   "name": "python",
   "nbconvert_exporter": "python",
   "pygments_lexer": "ipython3",
   "version": "3.11.7"
  }
 },
 "nbformat": 4,
 "nbformat_minor": 5
}
